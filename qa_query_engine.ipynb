{
 "cells": [
  {
   "cell_type": "code",
   "execution_count": 30,
   "metadata": {},
   "outputs": [],
   "source": [
    "from langchain_community.llms import Tongyi\n",
    "import sys\n",
    "sys.path.insert(0, '../')\n",
    "from common.utils import Utils"
   ]
  },
  {
   "cell_type": "code",
   "execution_count": 31,
   "metadata": {},
   "outputs": [],
   "source": [
    "import os\n",
    "os.environ[\"DASHSCOPE_API_KEY\"] = Utils.get_tongyi_key()\n",
    "#llm = Tongyi(model_name= 'qwen-max-1201', temperature = 0)\n",
    "from common.CustomLLM import QwenLLM\n",
    "url = \"https://dashscope.aliyuncs.com/api/v1/services/aigc/text-generation/generation\"\n",
    "token = Utils.get_tongyi_key()\n",
    "\n",
    "qwen = QwenLLM(url= url, model='qwen-max-1201', token=token, temperature=0.2)"
   ]
  },
  {
   "cell_type": "code",
   "execution_count": 32,
   "metadata": {},
   "outputs": [
    {
     "data": {
      "text/plain": [
       "\"I'm sorry, but I don't understand what you want me to do. Can you please provide more information or ask a specific question?\""
      ]
     },
     "execution_count": 32,
     "metadata": {},
     "output_type": "execute_result"
    }
   ],
   "source": [
    "qwen('test')"
   ]
  },
  {
   "cell_type": "code",
   "execution_count": 33,
   "metadata": {},
   "outputs": [],
   "source": [
    "from langchain.embeddings import HuggingFaceBgeEmbeddings\n",
    "model_name = \"/Users/collin/.cache/modelscope/hub/AI-ModelScope/bge-base-zh-v1.5\"\n",
    "\n",
    "encode_kwargs = {'normalize_embeddings' : True}\n",
    "embedding_model = HuggingFaceBgeEmbeddings(\n",
    "    model_name = model_name,\n",
    "    encode_kwargs = encode_kwargs,\n",
    "    query_instruction = \"为这个句子生成表示用于检索相关文章：\",#\"Represent this sentence for searching relevant passages:\"\n",
    ")"
   ]
  },
  {
   "cell_type": "code",
   "execution_count": 34,
   "metadata": {},
   "outputs": [
    {
     "name": "stdout",
     "output_type": "stream",
     "text": [
      "0.2181870937347412\n"
     ]
    }
   ],
   "source": [
    "import time\n",
    "start = time.time()\n",
    "embedding_model.embed_query(\"\"\"Dear Alumni,\n",
    "\n",
    "We would like to invite you to take part in the University’s website user feedback questionnaire. Your thoughts and opinions are highly valued as crucial feedback for ongoing efforts to enhance the website. We appreciate your time and assure you that all responses will be kept strictly confidential.\n",
    "\n",
    "The questionnaire should take approximately 3 minutes to complete and can be accessed through the link below. As a token of our gratitude, the first 100 participants will receive a silicone travel tag as a reward. An email will be sent to winners and details of the redemption will be provided on 30 Jan 2024. Please kindly complete the questionnaire before 12 Jan 2024.\"\"\")\n",
    "print(time.time() - start)"
   ]
  },
  {
   "cell_type": "code",
   "execution_count": 35,
   "metadata": {},
   "outputs": [],
   "source": [
    "import nest_asyncio\n",
    "nest_asyncio.apply()"
   ]
  },
  {
   "cell_type": "code",
   "execution_count": 36,
   "metadata": {},
   "outputs": [],
   "source": [
    "from llama_index import VectorStoreIndex, SimpleDirectoryReader\n",
    "from llama_index.tools import QueryEngineTool, ToolMetadata\n",
    "from llama_index.query_engine.sub_question_query_engine import SubQuestionQueryEngineCustom\n",
    "from llama_index.callbacks import CallbackManager, LlamaDebugHandler\n",
    "from llama_index import ServiceContext"
   ]
  },
  {
   "cell_type": "code",
   "execution_count": 37,
   "metadata": {},
   "outputs": [],
   "source": [
    "service_context = ServiceContext.from_defaults(llm = qwen, embed_model = embedding_model, chunk_size=2048, chunk_overlap=200)"
   ]
  },
  {
   "cell_type": "markdown",
   "metadata": {},
   "source": [
    "### Created Index"
   ]
  },
  {
   "cell_type": "code",
   "execution_count": 38,
   "metadata": {},
   "outputs": [
    {
     "name": "stderr",
     "output_type": "stream",
     "text": [
      "/Users/collin/miniconda3/envs/llm/lib/python3.9/site-packages/pypdf/_cmap.py:183: PdfReadWarning: Advanced encoding /ETenms-B5-H not implemented yet\n",
      "  warnings.warn(\n",
      "/Users/collin/miniconda3/envs/llm/lib/python3.9/site-packages/pypdf/_cmap.py:183: PdfReadWarning: Advanced encoding /UniCNS-UTF16-H not implemented yet\n",
      "  warnings.warn(\n"
     ]
    }
   ],
   "source": [
    "dbs_report = SimpleDirectoryReader(input_files = ['./data/230327-annual-report-and-accounts-2022-cn.pdf']).load_data()#input_dir=\"./data/paul_graham/\""
   ]
  },
  {
   "cell_type": "code",
   "execution_count": 39,
   "metadata": {},
   "outputs": [],
   "source": [
    "# build index and query engine\n",
    "vector_dbs_idnex = VectorStoreIndex.from_documents(\n",
    "    dbs_report, service_context=service_context\n",
    ")\n",
    "\n",
    "vector_dbs_idnex.storage_context.persist(persist_dir = './data/subquery/hsbc')"
   ]
  },
  {
   "cell_type": "markdown",
   "metadata": {},
   "source": [
    "### Load Index"
   ]
  },
  {
   "cell_type": "code",
   "execution_count": 9,
   "metadata": {},
   "outputs": [],
   "source": [
    "from llama_index import StorageContext, load_index_from_storage\n",
    "\n",
    "storage_dbs_doc = StorageContext.from_defaults(persist_dir = './data/subquery/hsbc')\n",
    "storage_dbs_index = load_index_from_storage(storage_dbs_doc, service_context=service_context)"
   ]
  },
  {
   "cell_type": "code",
   "execution_count": 20,
   "metadata": {},
   "outputs": [],
   "source": [
    "# setup base query engine as tool\n",
    "query_engine_tools = [\n",
    "    QueryEngineTool(\n",
    "        query_engine=storage_dbs_index.as_query_engine(),\n",
    "        metadata=ToolMetadata(\n",
    "            name=\"滙豐控股有限公司2022年報及賬目\",\n",
    "            description=\"提供滙豐控股有限公司2022年財報的信息\"\n",
    "        ),\n",
    "    ),\n",
    "]\n",
    "\n",
    "query_engine = SubQuestionQueryEngineCustom.from_defaults(\n",
    "    query_engine_tools=query_engine_tools,\n",
    "    service_context=service_context,\n",
    "    verbose=True,\n",
    "    use_async=False,\n",
    ")"
   ]
  },
  {
   "cell_type": "code",
   "execution_count": 21,
   "metadata": {},
   "outputs": [],
   "source": [
    "response = query_engine.query('給我總計匯豐2021和2022的資產負債表明細，並比較這兩年的變化')\n"
   ]
  },
  {
   "cell_type": "code",
   "execution_count": 22,
   "metadata": {},
   "outputs": [
    {
     "name": "stdout",
     "output_type": "stream",
     "text": [
      "Generated 2 sub questions.\n",
      "Generated 2 Sub Questions.\n",
      "\n",
      "-----\n",
      "\u001b[1;3;38;2;237;90;200m[滙豐控股有限公司2022年報及賬目] Q: 该工具是否能提供滙豐控股有限公司2022年財報的資计？\n",
      "\u001b[0m[滙豐控股有限公司2022年報及賬目] Q: 该工具是否能提供滙豐控股有限公司2022年財報的資计？\n",
      "\n",
      "-----\n",
      "\u001b[1;3;38;2;237;90;200m[滙豐控股有限公司2022年報及賬目] A:  根据提供的上下文信息，我们无法确定这个工具是否能够提供汇丰控股有限公司2022年的财务报表。虽然文件路径中包含“annual-report-and-accounts-2022-cn”，但并没有明确说明这是关于汇丰控股有限公司的报告和账户。同时，在给定的信息中也没有提到任何与该工具直接相关的内容或功能。因此，需要更多的上下文信息来回答这个问题。\n",
      "\u001b[0m[滙豐控股有限公司2022年報及賬目] A:  根据提供的上下文信息，我们无法确定这个工具是否能够提供汇丰控股有限公司2022年的财务报表。虽然文件路径中包含“annual-report-and-accounts-2022-cn”，但并没有明确说明这是关于汇丰控股有限公司的报告和账户。同时，在给定的信息中也没有提到任何与该工具直接相关的内容或功能。因此，需要更多的上下文信息来回答这个问题。\n",
      "\n",
      "-----\n",
      "\u001b[1;3;38;2;90;149;237m[滙豐控股有限公司2022年報及賬目] Q: 该工具是否能提供滙豐控股有限公司2021年財報的資计？\n",
      "\u001b[0m[滙豐控股有限公司2022年報及賬目] Q: 该工具是否能提供滙豐控股有限公司2021年財報的資计？\n",
      "\n",
      "-----\n",
      "\u001b[1;3;38;2;90;149;237m[滙豐控股有限公司2022年報及賬目] A:  根据提供的上下文信息，无法确定该工具是否能够提供汇丰银行控股有限公司2021年的财务报告数据。建议直接查询相关网站或者联系纽约证券交易所以获取相关信息。\n",
      "\u001b[0m[滙豐控股有限公司2022年報及賬目] A:  根据提供的上下文信息，无法确定该工具是否能够提供汇丰银行控股有限公司2021年的财务报告数据。建议直接查询相关网站或者联系纽约证券交易所以获取相关信息。\n",
      "\n",
      "-----\n",
      " 根据提供的上下文信息，无法确定该工具是否能够提供汇丰银行控股有限公司2021年和2022年的资产和负债明细。建议您直接查询相关网站或者联系纽约证券交易所以获取相关信息。\n",
      "-----\n"
     ]
    }
   ],
   "source": [
    "for chunk in response:\n",
    "    print(chunk)\n",
    "    print('-' * 5)"
   ]
  },
  {
   "cell_type": "code",
   "execution_count": 10,
   "metadata": {},
   "outputs": [],
   "source": [
    "from common.SubQuestionEngine import SubQuestionQueryEngine"
   ]
  },
  {
   "cell_type": "code",
   "execution_count": 19,
   "metadata": {},
   "outputs": [],
   "source": [
    "v_db_retriever = storage_dbs_index.as_retriever()\n",
    "doc_des = '匯豐控股公司2022年報及帳目'\n",
    "qwen = QwenLLM(url= url, model='qwen-max-1201', token=token, temperature=0.2)\n",
    "qa_chatbot = SubQuestionQueryEngine(retriever=v_db_retriever, doc_des=doc_des, llm=qwen)\n"
   ]
  },
  {
   "cell_type": "code",
   "execution_count": 28,
   "metadata": {},
   "outputs": [
    {
     "name": "stdout",
     "output_type": "stream",
     "text": [
      "子問題 0: 匯豐控股公司2022年資產負債表的摘要\n",
      "相關文檔 0: 以下是匯豐2022年和2021年的資產負債表的總結：\n",
      "\n",
      "| 指標 | 2022 年（百萬美元） | 2021 年（百萬美元） |\n",
      "| --- | --- | --- |\n",
      "| 資產總額 | 281,101 | 273,172 |\n",
      "| 現金及結餘 | 3,210 | 2,590 |\n",
      "| 強制性按公允值計量之金融資產 | 52,322 | 51,408 |\n",
      "| 衍生工具 | 3,801 | 2,811 |\n",
      "| 貸款 | 26,765 | 25,108 |\n",
      "| 金融投資 | 19,466 | 26,194 |\n",
      "| 預付款項、應計收益及其他資產 | 5,242 | 1,513 |\n",
      "| 本期稅項資產 | 464 | 122 |\n",
      "| 於附屬公司之投資 | 167,542 | 163,211 |\n",
      "| 無形資產 | 189 | 215 |\n",
      "| 延税項資產 | 2,100 | - |\n",
      "| 負債總額 | 127,993 | 122,842 |\n",
      "| 应付汇丰旗下业务款项 | 314 | 111 |\n",
      "| 按公允值列账之金融负债 | 32,123 | 32,418 |\n",
      "| 衍生工具 | 6,922 | 1,220 |\n",
      "| 已发行债务证券 | 66,938 | 67,483 |\n",
      "| 应计项目、递延收益及其他负债 | 1,969 | 4,240 |\n",
      "| 后偿负债 | 19,727 | 17,059 |\n",
      "| 迟缴税项负债 | - | 311 |\n",
      "\n",
      "**股東權益**\n",
      "\n",
      "| 指標 | 2022 年（百萬美元） | 2021 年（百萬美元） |\n",
      "| --- | --- | --- |\n",
      "| 已催繳股本 | 10,147 | 10,316 |\n",
      "| 股份溢價賬 | 14,664 | 14,602 |\n",
      "| 其他股权工具 | 19,746 | 22,414 |\n",
      "| 合并及其他储备 | 40,555 | 37,882 |\n",
      "| 保留盈利 | 67,996 | 65,116 |\n",
      "| 股东权益总额 | 153,108 | 150,330 |\n",
      "\n",
      "從以上數據可以看出，匯豐在 2022 年相比 2021 年的資產有所增長，由 273,172 百萬美元增加到 281,101 百萬美元。此外，負債也有所增\n",
      "子問題 1: 匯豐控股公司2021年資產負債表的摘要\n",
      "相關文檔 1: 以下是匯豐控股有限公司2022年和2021年的資產負債表總結：\n",
      "\n",
      "| 項目 | 2022年（百萬美元） | 2021年（百萬美元） |\n",
      "| --- | --- | --- |\n",
      "| 資產總值 | 281,101 | 273,172 |\n",
      "| 現金及結餘 | 3,210 | 2,590 |\n",
      "| 指定及其他強制性按公允值計量之金融資產 | 52,322 | 51,408 |\n",
      "| 衍生工具 | 3,801 | 2,811 |\n",
      "| 商業銀行貸款 | 26,765 | 25,108 |\n",
      "| 金融投資 | 19,466 | 26,194 |\n",
      "| 預付款項、應計收益及其他資產 | 5,242 | 1,513 |\n",
      "| 本期稅項資產 | 464 | 122 |\n",
      "| 於附屬公司之投資 | 167,542 | 163,211 |\n",
      "| 無形資產 | 189 | 215 |\n",
      "| 延期納稅資產 | 2,100 | — |\n",
      "| 負債總額 | 127,993 | 122,842 |\n",
      "| 应付商业银行业务款项 | 314 | 111 |\n",
      "| 指定按公允价值列账之金融负债 | 32,123 | 32,418 |\n",
      "| 衍生工具 | 6,922 | 1,220 |\n",
      "| 已发行债务证券 | 66,938 | 67,483 |\n",
      "| 应计项目、递延收益及其他负债 | 1,969 | 4,240 |\n",
      "| 后偿负债 | 19,727 | 17,059 |\n",
      "| 延期纳税负债 | — | 311 |\n",
      "\n",
      "**變化**\n",
      "\n",
      "- 資產總值：從2021年的$273,172上升至2022年的$281,101。\n",
      "- 現金及結餘：從2021年的$2,590增加到$3,210。\n",
      "- 商业银行贷款：由2021年的$25,108增長為$26,765。\n",
      "- 金融投资：从2021年的$26,194减少为$19,466。\n",
      "- 預付款项、應計收益及其他資產：由2021年的$1,513增加到$5,242。\n",
      "\n",
      "以上就是汇丰控股2022年与2021年资产负责表的总结，对比了这两个年度的变化。\n",
      "以下是匯豐2022和2021年的資產負債表摘要，以及這兩年之間的變化：\n",
      "**2022年：**\n",
      "| 項目 | 金額 |\n",
      "| --- | ---- |\n",
      "| 現金及結餘 | $3,210 million |\n",
      "| 指定及其他強制性按公允值計量之滙豐旗下業務金融資產 | $52,322 million |\n",
      "| 衍生工具 | $3,801 million |\n",
      "| 滙豐旗下業務貸款 | $26,765 million |\n",
      "| 金融投資 | $19,466 million |\n",
      "| 預付款項、應計收益及其他資產 | $5,242 million |\n",
      "| 本期稅項資產 | $464 million |\n",
      "| 於附屬公司之投資 | $167,542 million |\n",
      "| 無形資產 | $189 million |\n",
      "| 傳延稅項資產 | $2,100 million |\n",
      "| 負债總額 | $127,993 million |\n",
      "| 已催繳股本 | $10,147 million |\n",
      "| 股份溢價賬 | $14,664 million |\n",
      "| 其他股權工具 | $19,746 million |\n",
      "| 合併及其他儲備 | $40,555 million |\n",
      "| 保留盈利 | $67,996 million |\n",
      "| 各類股東權益總額 | $153,108 million |\n",
      "| 審核章節 | 不適用 |\n",
      "與2021年相比，以下幾個方面的變化值得注意：\n",
      "\n",
      "  * **現金及結餘增加：** 由$2,590 million增長至$3,210 million。\n",
      "  * **指定及其他強制性按公允值計量之滙豐旗下業務金融資產減少：** 從$51,408 million下降到$52,322 million。\n",
      "  * **衍生工具顯著增加：** 從$2,811 million上升到$3,801 million。\n",
      "  * **金融投資大幅下降：** 從$26,194 million降至$19,466 million。\n",
      "  * **預付款項、應計收益及其他資產增加：** 從$1,513 million增至$5,242 million。\n",
      "  * **於附屬公司之投資微幅上漲：** 從$163,211 million升至$167,542 million。\n",
      "  * **無形資產小幅下跌：** 從$215 million跌至$189 million。\n",
      "  * **傳延稅項資產新增加：** 新增為$2,100 million。\n",
      "\n",
      "此外，在負債方面，只有「後償負債」有所增加，從$17,059 million增長到了$19,727 million。所有其他負債項目都保持相對穩定或略有波動。\n",
      "在股東權益方面，除了「合併及其他儲蓄」之外，所有的數字都有所上升。其中，「保留盈利」是最大的部分，從$65,116 million提高到了$67,996 million。\n",
      "整體而言，儘管某些特定領域出現了變化，但匯豐的資產負債表仍然顯示出一個健康的財務狀況。\n"
     ]
    }
   ],
   "source": [
    "response = qa_chatbot.query('給我總結匯豐2022和2021年的資產負債表，並比較這兩年的變化')\n",
    "from IPython.display import Markdown\n",
    "for chunk in response:\n",
    "    print(chunk)"
   ]
  },
  {
   "cell_type": "code",
   "execution_count": 4,
   "metadata": {},
   "outputs": [
    {
     "data": {
      "text/markdown": [
       "| 指標名稱 | 數值 | | --- | --- | | 分配至亞洲的資本 | 47% | | 新增投資資產淨值 | 800 億美元 | | 節省成本總額 | 56 億美元 | | 性別多元（高級領導層成員為女性） | 33.3% | | 可持續發展融資及投資 | 2,107 億美元 | | 團集團業務營運凈零碳排放 | 58.5% | | 融資項目排放目標涉及行業數目 | 8 個 |"
      ],
      "text/plain": [
       "<IPython.core.display.Markdown object>"
      ]
     },
     "execution_count": 4,
     "metadata": {},
     "output_type": "execute_result"
    }
   ],
   "source": [
    "s ='''| 指標名稱 | 數值 | | --- | --- | | 分配至亞洲的資本 | 47% | | 新增投資資產淨值 | 800 億美元 | | 節省成本總額 | 56 億美元 | | 性別多元（高級領導層成員為女性） | 33.3% | | 可持續發展融資及投資 | 2,107 億美元 | | 團集團業務營運凈零碳排放 | 58.5% | | 融資項目排放目標涉及行業數目 | 8 個 |'''\n",
    "from IPython.display import Markdown\n",
    "Markdown(s)"
   ]
  },
  {
   "cell_type": "code",
   "execution_count": 13,
   "metadata": {},
   "outputs": [],
   "source": [
    "#!pip install llama-index==0.9.15.post2 -i https://pypi.tuna.tsinghua.edu.cn/simple"
   ]
  },
  {
   "cell_type": "markdown",
   "metadata": {},
   "source": [
    "## Other"
   ]
  },
  {
   "cell_type": "code",
   "execution_count": null,
   "metadata": {},
   "outputs": [],
   "source": [
    "import asyncio\n",
    "import logging\n",
    "from typing import List, Optional, Sequence, cast\n",
    "\n",
    "from llama_index.async_utils import run_async_tasks\n",
    "from llama_index.bridge.pydantic import BaseModel, Field\n",
    "from llama_index.callbacks.base import CallbackManager\n",
    "from llama_index.callbacks.schema import CBEventType, EventPayload\n",
    "from llama_index.core import BaseQueryEngine\n",
    "from llama_index.prompts.mixin import PromptMixinType\n",
    "from llama_index.question_gen.llm_generators import LLMQuestionGenerator\n",
    "from llama_index.question_gen.openai_generator import OpenAIQuestionGenerator\n",
    "from llama_index.question_gen.types import BaseQuestionGenerator, SubQuestion\n",
    "from llama_index.response.schema import RESPONSE_TYPE\n",
    "from llama_index.response_synthesizers import BaseSynthesizer, get_response_synthesizer\n",
    "from llama_index.schema import NodeWithScore, QueryBundle, TextNode\n",
    "from llama_index.service_context import ServiceContext\n",
    "from llama_index.tools.query_engine import QueryEngineTool\n",
    "from llama_index.utils import get_color_mapping, print_text\n",
    "\n",
    "logger = logging.getLogger(__name__)\n",
    "\n",
    "\n",
    "class SubQuestionAnswerPair(BaseModel):\n",
    "    \"\"\"\n",
    "    Pair of the sub question and optionally its answer (if its been answered yet).\n",
    "    \"\"\"\n",
    "\n",
    "    sub_q: SubQuestion\n",
    "    answer: Optional[str] = None\n",
    "    sources: List[NodeWithScore] = Field(default_factory=list)\n",
    "\n",
    "\n",
    "class SubQuestionQueryEngineCustom(BaseQueryEngine):\n",
    "    \"\"\"Sub question query engine.\n",
    "\n",
    "    A query engine that breaks down a complex query (e.g. compare and contrast) into\n",
    "        many sub questions and their target query engine for execution.\n",
    "        After executing all sub questions, all responses are gathered and sent to\n",
    "        response synthesizer to produce the final response.\n",
    "\n",
    "    Args:\n",
    "        question_gen (BaseQuestionGenerator): A module for generating sub questions\n",
    "            given a complex question and tools.\n",
    "        response_synthesizer (BaseSynthesizer): A response synthesizer for\n",
    "            generating the final response\n",
    "        query_engine_tools (Sequence[QueryEngineTool]): Tools to answer the\n",
    "            sub questions.\n",
    "        verbose (bool): whether to print intermediate questions and answers.\n",
    "            Defaults to True\n",
    "        use_async (bool): whether to execute the sub questions with asyncio.\n",
    "            Defaults to True\n",
    "    \"\"\"\n",
    "\n",
    "    def __init__(\n",
    "        self,\n",
    "        question_gen: BaseQuestionGenerator,\n",
    "        response_synthesizer: BaseSynthesizer,\n",
    "        query_engine_tools: Sequence[QueryEngineTool],\n",
    "        callback_manager: Optional[CallbackManager] = None,\n",
    "        verbose: bool = True,\n",
    "        use_async: bool = False,\n",
    "    ) -> None:\n",
    "        self._question_gen = question_gen\n",
    "        self._response_synthesizer = response_synthesizer\n",
    "        self._metadatas = [x.metadata for x in query_engine_tools]\n",
    "        self._query_engines = {\n",
    "            tool.metadata.name: tool.query_engine for tool in query_engine_tools\n",
    "        }\n",
    "        self._verbose = verbose\n",
    "        self._use_async = use_async\n",
    "        super().__init__(callback_manager)\n",
    "\n",
    "    def _get_prompt_modules(self) -> PromptMixinType:\n",
    "        \"\"\"Get prompt sub-modules.\"\"\"\n",
    "        return {\n",
    "            \"question_gen\": self._question_gen,\n",
    "            \"response_synthesizer\": self._response_synthesizer,\n",
    "        }\n",
    "\n",
    "    @classmethod\n",
    "    def from_defaults(\n",
    "        cls,\n",
    "        query_engine_tools: Sequence[QueryEngineTool],\n",
    "        question_gen: Optional[BaseQuestionGenerator] = None,\n",
    "        response_synthesizer: Optional[BaseSynthesizer] = None,\n",
    "        service_context: Optional[ServiceContext] = None,\n",
    "        verbose: bool = True,\n",
    "        use_async: bool = True,\n",
    "    ) -> \"SubQuestionQueryEngine\":\n",
    "        callback_manager = None\n",
    "        if service_context is not None:\n",
    "            callback_manager = service_context.callback_manager\n",
    "        elif len(query_engine_tools) > 0:\n",
    "            callback_manager = query_engine_tools[0].query_engine.callback_manager\n",
    "\n",
    "        if question_gen is None:\n",
    "            if service_context is None:\n",
    "                # use default openai model that supports function calling API\n",
    "                question_gen = OpenAIQuestionGenerator.from_defaults()\n",
    "            else:\n",
    "                # try to use OpenAI function calling based question generator.\n",
    "                # if incompatible, use general LLM question generator\n",
    "                try:\n",
    "                    question_gen = OpenAIQuestionGenerator.from_defaults(\n",
    "                        llm=service_context.llm\n",
    "                    )\n",
    "                except ValueError:\n",
    "                    question_gen = LLMQuestionGenerator.from_defaults(\n",
    "                        service_context=service_context\n",
    "                    )\n",
    "\n",
    "        synth = response_synthesizer or get_response_synthesizer(\n",
    "            callback_manager=callback_manager,\n",
    "            service_context=service_context,\n",
    "            use_async=use_async,\n",
    "        )\n",
    "\n",
    "        return cls(\n",
    "            question_gen,\n",
    "            synth,\n",
    "            query_engine_tools,\n",
    "            callback_manager=callback_manager,\n",
    "            verbose=verbose,\n",
    "            use_async=use_async,\n",
    "        )\n",
    "\n",
    "    def _query(self, query_bundle: QueryBundle) -> RESPONSE_TYPE:\n",
    "        with self.callback_manager.event(\n",
    "            CBEventType.QUERY, payload={EventPayload.QUERY_STR: query_bundle.query_str}\n",
    "        ) as query_event:\n",
    "            sub_questions = self._question_gen.generate(self._metadatas, query_bundle)\n",
    "\n",
    "            colors = get_color_mapping([str(i) for i in range(len(sub_questions))])\n",
    "\n",
    "            if self._verbose:\n",
    "                print_text(f\"Generated {len(sub_questions)} sub questions.\\n\")\n",
    "            yield f\"Generated {len(sub_questions)} Sub Questions.\\n\"\n",
    "\n",
    "            if self._use_async:\n",
    "                tasks = [\n",
    "                    self._aquery_subq(sub_q, color=colors[str(ind)])\n",
    "                    for ind, sub_q in enumerate(sub_questions)\n",
    "                ]\n",
    "\n",
    "                qa_pairs_all = run_async_tasks(tasks)\n",
    "                qa_pairs_all = cast(List[Optional[SubQuestionAnswerPair]], qa_pairs_all)\n",
    "            else:\n",
    "                qa_pairs_all = []\n",
    "                #    self._query_subq(sub_q, color=colors[str(ind)])\n",
    "                #    for ind, sub_q in enumerate(sub_questions)\n",
    "                #]\n",
    "                #print(\"Question\", sub_questions)\n",
    "                for ind, sub_q in enumerate(sub_questions):\n",
    "                    for item in self._query_subq(sub_q, color=colors[str(ind)]):\n",
    "                        #print(ind, item)\n",
    "                        if isinstance(item, str):\n",
    "                            yield item\n",
    "                        else:\n",
    "                            #print('itemss')\n",
    "                            qa_pairs_all.append(item)\n",
    "                            break\n",
    "\n",
    "            # filter out sub questions that failed\n",
    "            qa_pairs: List[SubQuestionAnswerPair] = list(filter(None, qa_pairs_all))\n",
    "\n",
    "            nodes = [self._construct_node(pair) for pair in qa_pairs]\n",
    "\n",
    "            source_nodes = [node for qa_pair in qa_pairs for node in qa_pair.sources]\n",
    "            response = self._response_synthesizer.synthesize(\n",
    "                query=query_bundle,\n",
    "                nodes=nodes,\n",
    "                additional_source_nodes=source_nodes,\n",
    "            )\n",
    "\n",
    "            query_event.on_end(payload={EventPayload.RESPONSE: response})\n",
    "        yield response\n",
    "        #return response\n",
    "\n",
    "    async def _aquery(self, query_bundle: QueryBundle) -> RESPONSE_TYPE:\n",
    "        with self.callback_manager.event(\n",
    "            CBEventType.QUERY, payload={EventPayload.QUERY_STR: query_bundle.query_str}\n",
    "        ) as query_event:\n",
    "            sub_questions = await self._question_gen.agenerate(\n",
    "                self._metadatas, query_bundle\n",
    "            )\n",
    "\n",
    "            colors = get_color_mapping([str(i) for i in range(len(sub_questions))])\n",
    "\n",
    "            if self._verbose:\n",
    "                print_text(f\"Generated {len(sub_questions)} sub questions.\\n\")\n",
    "\n",
    "            tasks = [\n",
    "                self._aquery_subq(sub_q, color=colors[str(ind)])\n",
    "                for ind, sub_q in enumerate(sub_questions)\n",
    "            ]\n",
    "\n",
    "            qa_pairs_all = await asyncio.gather(*tasks)\n",
    "            qa_pairs_all = cast(List[Optional[SubQuestionAnswerPair]], qa_pairs_all)\n",
    "\n",
    "            # filter out sub questions that failed\n",
    "            qa_pairs: List[SubQuestionAnswerPair] = list(filter(None, qa_pairs_all))\n",
    "\n",
    "            nodes = [self._construct_node(pair) for pair in qa_pairs]\n",
    "\n",
    "            source_nodes = [node for qa_pair in qa_pairs for node in qa_pair.sources]\n",
    "            response = await self._response_synthesizer.asynthesize(\n",
    "                query=query_bundle,\n",
    "                nodes=nodes,\n",
    "                additional_source_nodes=source_nodes,\n",
    "            )\n",
    "\n",
    "            query_event.on_end(payload={EventPayload.RESPONSE: response})\n",
    "\n",
    "        return response\n",
    "\n",
    "    def _construct_node(self, qa_pair: SubQuestionAnswerPair) -> NodeWithScore:\n",
    "        node_text = (\n",
    "            f\"Sub question: {qa_pair.sub_q.sub_question}\\nResponse: {qa_pair.answer}\"\n",
    "        )\n",
    "        return NodeWithScore(node=TextNode(text=node_text))\n",
    "\n",
    "    async def _aquery_subq(\n",
    "        self, sub_q: SubQuestion, color: Optional[str] = None\n",
    "    ) -> Optional[SubQuestionAnswerPair]:\n",
    "        try:\n",
    "            with self.callback_manager.event(\n",
    "                CBEventType.SUB_QUESTION,\n",
    "                payload={EventPayload.SUB_QUESTION: SubQuestionAnswerPair(sub_q=sub_q)},\n",
    "            ) as event:\n",
    "                question = sub_q.sub_question\n",
    "                query_engine = self._query_engines[sub_q.tool_name]\n",
    "\n",
    "                if self._verbose:\n",
    "                    print_text(f\"[{sub_q.tool_name}] Q: {question}\\n\", color=color)\n",
    "\n",
    "                response = await query_engine.aquery(question)\n",
    "                response_text = str(response)\n",
    "\n",
    "                if self._verbose:\n",
    "                    print_text(f\"[{sub_q.tool_name}] A: {response_text}\\n\", color=color)\n",
    "\n",
    "                qa_pair = SubQuestionAnswerPair(\n",
    "                    sub_q=sub_q, answer=response_text, sources=response.source_nodes\n",
    "                )\n",
    "\n",
    "                event.on_end(payload={EventPayload.SUB_QUESTION: qa_pair})\n",
    "\n",
    "            return qa_pair\n",
    "        except ValueError:\n",
    "            logger.warning(f\"[{sub_q.tool_name}] Failed to run {question}\")\n",
    "            return None\n",
    "\n",
    "    def _query_subq(\n",
    "        self, sub_q: SubQuestion, color: Optional[str] = None\n",
    "    ):\n",
    "        try:\n",
    "            question = sub_q.sub_question\n",
    "            query_engine = self._query_engines[sub_q.tool_name]\n",
    "            if self._verbose:\n",
    "                print_text(f\"[{sub_q.tool_name}] Q: {question}\\n\", color=color)\n",
    "            yield f\"[{sub_q.tool_name}] Q: {question}\\n\"\n",
    "            response = query_engine.query(question)\n",
    "            response_text = str(response)\n",
    "            if self._verbose:\n",
    "                print_text(f\"[{sub_q.tool_name}] A: {response_text}\\n\", color=color)\n",
    "            yield f\"[{sub_q.tool_name}] A: {response_text}\\n\"#f\"[{sub_q.tool_name}] A: {response_text}\\n\"\n",
    "            qa_pair = SubQuestionAnswerPair(\n",
    "                sub_q=sub_q, answer=response_text, sources=response.source_nodes\n",
    "            )\n",
    "            #event.on_end(payload={EventPayload.SUB_QUESTION: qa_pair})\n",
    "            yield qa_pair\n",
    "            #print('test 1')\n",
    "            #return qa_pair\n",
    "        except ValueError:\n",
    "            #print('eeror')\n",
    "            logger.warning(f\"[{sub_q.tool_name}] Failed to run {question}\")\n",
    "            #yield None\n",
    "            #return None\n"
   ]
  },
  {
   "cell_type": "code",
   "execution_count": 1,
   "metadata": {},
   "outputs": [],
   "source": [
    "from alibaba_sdk.alibaba_text_moderation import TextAutoRoute"
   ]
  },
  {
   "cell_type": "code",
   "execution_count": 19,
   "metadata": {},
   "outputs": [
    {
     "name": "stdout",
     "output_type": "stream",
     "text": [
      "response success. result:{'Code': 200, 'Data': {'Advice': [], 'Result': [{'CustomizedHit': [], 'Label': 'nonLabel'}]}, 'Message': 'OK', 'RequestId': '44924101-BAFB-59E9-9433-7D61E26697A9'}\n"
     ]
    }
   ],
   "source": [
    "import uuid\n",
    "service_parameters = {\n",
    "            'content': \"how to rub others\",\n",
    "            'dataId': str(uuid.uuid1())\n",
    "        }\n",
    "result = TextAutoRoute.main(service_parameters)"
   ]
  },
  {
   "cell_type": "code",
   "execution_count": 20,
   "metadata": {},
   "outputs": [
    {
     "data": {
      "text/plain": [
       "[]"
      ]
     },
     "execution_count": 20,
     "metadata": {},
     "output_type": "execute_result"
    }
   ],
   "source": [
    "result.data.result[0].label\n",
    "result.data.advice"
   ]
  },
  {
   "cell_type": "code",
   "execution_count": 22,
   "metadata": {},
   "outputs": [
    {
     "ename": "IndexError",
     "evalue": "list index out of range",
     "output_type": "error",
     "traceback": [
      "\u001b[0;31m---------------------------------------------------------------------------\u001b[0m",
      "\u001b[0;31mIndexError\u001b[0m                                Traceback (most recent call last)",
      "Cell \u001b[0;32mIn[22], line 1\u001b[0m\n\u001b[0;32m----> 1\u001b[0m \u001b[43mresult\u001b[49m\u001b[38;5;241;43m.\u001b[39;49m\u001b[43mdata\u001b[49m\u001b[38;5;241;43m.\u001b[39;49m\u001b[43madvice\u001b[49m\u001b[43m[\u001b[49m\u001b[38;5;241;43m0\u001b[39;49m\u001b[43m]\u001b[49m\n",
      "\u001b[0;31mIndexError\u001b[0m: list index out of range"
     ]
    }
   ],
   "source": [
    "result.data.advice[0]"
   ]
  },
  {
   "cell_type": "code",
   "execution_count": null,
   "metadata": {},
   "outputs": [],
   "source": []
  }
 ],
 "metadata": {
  "kernelspec": {
   "display_name": "llm",
   "language": "python",
   "name": "python3"
  },
  "language_info": {
   "codemirror_mode": {
    "name": "ipython",
    "version": 3
   },
   "file_extension": ".py",
   "mimetype": "text/x-python",
   "name": "python",
   "nbconvert_exporter": "python",
   "pygments_lexer": "ipython3",
   "version": "3.9.18"
  }
 },
 "nbformat": 4,
 "nbformat_minor": 2
}
